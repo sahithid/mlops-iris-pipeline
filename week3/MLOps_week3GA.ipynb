{
 "cells": [
  {
   "cell_type": "markdown",
   "metadata": {
    "id": "TP3jb5GA9zID"
   },
   "source": [
    "## Feast Installation and Data"
   ]
  },
  {
   "cell_type": "code",
   "execution_count": 26,
   "metadata": {
    "colab": {
     "base_uri": "https://localhost:8080/"
    },
    "id": "G4Zc_JFo7TCo",
    "outputId": "3ea96eee-21a5-4b69-b534-a54036c3fa77",
    "tags": []
   },
   "outputs": [
    {
     "name": "stdout",
     "output_type": "stream",
     "text": [
      "Requirement already satisfied: feast in /opt/conda/lib/python3.10/site-packages (0.54.0)\n",
      "Requirement already satisfied: scikit-learn in /opt/conda/lib/python3.10/site-packages (1.7.2)\n",
      "Requirement already satisfied: click<9.0.0,>=7.0.0 in /opt/conda/lib/python3.10/site-packages (from feast) (8.1.8)\n",
      "Requirement already satisfied: colorama<1,>=0.3.9 in /opt/conda/lib/python3.10/site-packages (from feast) (0.4.6)\n",
      "Requirement already satisfied: dill~=0.3.0 in /opt/conda/lib/python3.10/site-packages (from feast) (0.3.9)\n",
      "Requirement already satisfied: protobuf>=4.24.0 in /opt/conda/lib/python3.10/site-packages (from feast) (6.31.1)\n",
      "Requirement already satisfied: Jinja2<4,>=2 in /opt/conda/lib/python3.10/site-packages (from feast) (3.1.6)\n",
      "Requirement already satisfied: jsonschema in /opt/conda/lib/python3.10/site-packages (from feast) (4.25.1)\n",
      "Requirement already satisfied: mmh3 in /opt/conda/lib/python3.10/site-packages (from feast) (5.2.0)\n",
      "Requirement already satisfied: numpy<3,>=2.0.0 in /opt/conda/lib/python3.10/site-packages (from feast) (2.1.0)\n",
      "Requirement already satisfied: pandas<3,>=1.4.3 in /opt/conda/lib/python3.10/site-packages (from feast) (2.3.2)\n",
      "Requirement already satisfied: pyarrow<=17.0.0 in /opt/conda/lib/python3.10/site-packages (from feast) (17.0.0)\n",
      "Requirement already satisfied: pydantic==2.10.6 in /opt/conda/lib/python3.10/site-packages (from feast) (2.10.6)\n",
      "Requirement already satisfied: pygments<3,>=2.12.0 in /opt/conda/lib/python3.10/site-packages (from feast) (2.19.2)\n",
      "Requirement already satisfied: PyYAML<7,>=5.4.0 in /opt/conda/lib/python3.10/site-packages (from feast) (6.0.2)\n",
      "Requirement already satisfied: requests in /opt/conda/lib/python3.10/site-packages (from feast) (2.32.5)\n",
      "Requirement already satisfied: SQLAlchemy>1 in /opt/conda/lib/python3.10/site-packages (from SQLAlchemy[mypy]>1->feast) (2.0.43)\n",
      "Requirement already satisfied: tabulate<1,>=0.8.0 in /opt/conda/lib/python3.10/site-packages (from feast) (0.9.0)\n",
      "Requirement already satisfied: tenacity<9,>=7 in /opt/conda/lib/python3.10/site-packages (from feast) (8.5.0)\n",
      "Requirement already satisfied: toml<1,>=0.10.0 in /opt/conda/lib/python3.10/site-packages (from feast) (0.10.2)\n",
      "Requirement already satisfied: tqdm<5,>=4 in /opt/conda/lib/python3.10/site-packages (from feast) (4.67.1)\n",
      "Requirement already satisfied: typeguard>=4.0.0 in /opt/conda/lib/python3.10/site-packages (from feast) (4.4.4)\n",
      "Requirement already satisfied: fastapi>=0.68.0 in /opt/conda/lib/python3.10/site-packages (from feast) (0.116.2)\n",
      "Requirement already satisfied: uvicorn<=0.34.0,>=0.30.6 in /opt/conda/lib/python3.10/site-packages (from uvicorn[standard]<=0.34.0,>=0.30.6->feast) (0.34.0)\n",
      "Requirement already satisfied: uvicorn-worker in /opt/conda/lib/python3.10/site-packages (from feast) (0.3.0)\n",
      "Requirement already satisfied: gunicorn in /opt/conda/lib/python3.10/site-packages (from feast) (23.0.0)\n",
      "Requirement already satisfied: dask>=2024.2.1 in /opt/conda/lib/python3.10/site-packages (from dask[dataframe]>=2024.2.1->feast) (2025.9.1)\n",
      "Requirement already satisfied: prometheus_client in /opt/conda/lib/python3.10/site-packages (from feast) (0.22.1)\n",
      "Requirement already satisfied: psutil in /opt/conda/lib/python3.10/site-packages (from feast) (5.9.3)\n",
      "Requirement already satisfied: bigtree>=0.19.2 in /opt/conda/lib/python3.10/site-packages (from feast) (1.0.0)\n",
      "Requirement already satisfied: pyjwt in /opt/conda/lib/python3.10/site-packages (from feast) (2.10.1)\n",
      "Requirement already satisfied: annotated-types>=0.6.0 in /opt/conda/lib/python3.10/site-packages (from pydantic==2.10.6->feast) (0.7.0)\n",
      "Requirement already satisfied: pydantic-core==2.27.2 in /opt/conda/lib/python3.10/site-packages (from pydantic==2.10.6->feast) (2.27.2)\n",
      "Requirement already satisfied: typing-extensions>=4.12.2 in /opt/conda/lib/python3.10/site-packages (from pydantic==2.10.6->feast) (4.15.0)\n",
      "Requirement already satisfied: MarkupSafe>=2.0 in /opt/conda/lib/python3.10/site-packages (from Jinja2<4,>=2->feast) (3.0.2)\n",
      "Requirement already satisfied: python-dateutil>=2.8.2 in /opt/conda/lib/python3.10/site-packages (from pandas<3,>=1.4.3->feast) (2.9.0.post0)\n",
      "Requirement already satisfied: pytz>=2020.1 in /opt/conda/lib/python3.10/site-packages (from pandas<3,>=1.4.3->feast) (2025.2)\n",
      "Requirement already satisfied: tzdata>=2022.7 in /opt/conda/lib/python3.10/site-packages (from pandas<3,>=1.4.3->feast) (2025.2)\n",
      "Requirement already satisfied: h11>=0.8 in /opt/conda/lib/python3.10/site-packages (from uvicorn<=0.34.0,>=0.30.6->uvicorn[standard]<=0.34.0,>=0.30.6->feast) (0.16.0)\n",
      "Requirement already satisfied: httptools>=0.6.3 in /opt/conda/lib/python3.10/site-packages (from uvicorn[standard]<=0.34.0,>=0.30.6->feast) (0.6.4)\n",
      "Requirement already satisfied: python-dotenv>=0.13 in /opt/conda/lib/python3.10/site-packages (from uvicorn[standard]<=0.34.0,>=0.30.6->feast) (1.1.1)\n",
      "Requirement already satisfied: uvloop!=0.15.0,!=0.15.1,>=0.14.0 in /opt/conda/lib/python3.10/site-packages (from uvicorn[standard]<=0.34.0,>=0.30.6->feast) (0.21.0)\n",
      "Requirement already satisfied: watchfiles>=0.13 in /opt/conda/lib/python3.10/site-packages (from uvicorn[standard]<=0.34.0,>=0.30.6->feast) (1.1.0)\n",
      "Requirement already satisfied: websockets>=10.4 in /opt/conda/lib/python3.10/site-packages (from uvicorn[standard]<=0.34.0,>=0.30.6->feast) (15.0.1)\n",
      "Requirement already satisfied: scipy>=1.8.0 in /opt/conda/lib/python3.10/site-packages (from scikit-learn) (1.15.3)\n",
      "Requirement already satisfied: joblib>=1.2.0 in /opt/conda/lib/python3.10/site-packages (from scikit-learn) (1.5.2)\n",
      "Requirement already satisfied: threadpoolctl>=3.1.0 in /opt/conda/lib/python3.10/site-packages (from scikit-learn) (3.6.0)\n",
      "Requirement already satisfied: google-api-core<3,>=1.23.0 in /opt/conda/lib/python3.10/site-packages (from feast[gcp]) (2.25.1)\n",
      "Requirement already satisfied: googleapis-common-protos<2,>=1.52.0 in /opt/conda/lib/python3.10/site-packages (from feast[gcp]) (1.70.0)\n",
      "Requirement already satisfied: google-cloud-bigquery<4,>=2 in /opt/conda/lib/python3.10/site-packages (from google-cloud-bigquery[pandas]<4,>=2; extra == \"gcp\"->feast[gcp]) (3.37.0)\n",
      "Requirement already satisfied: google-cloud-bigquery-storage<3,>=2.0.0 in /opt/conda/lib/python3.10/site-packages (from feast[gcp]) (2.33.1)\n",
      "Requirement already satisfied: google-cloud-datastore<3,>=2.16.0 in /opt/conda/lib/python3.10/site-packages (from feast[gcp]) (2.21.0)\n",
      "Requirement already satisfied: google-cloud-storage<3,>=1.34.0 in /opt/conda/lib/python3.10/site-packages (from feast[gcp]) (2.19.0)\n",
      "Requirement already satisfied: google-cloud-bigtable<3,>=2.11.0 in /opt/conda/lib/python3.10/site-packages (from feast[gcp]) (2.33.0)\n",
      "Requirement already satisfied: fsspec<=2024.9.0 in /opt/conda/lib/python3.10/site-packages (from feast[gcp]) (2024.9.0)\n",
      "Requirement already satisfied: proto-plus<2.0.0,>=1.22.3 in /opt/conda/lib/python3.10/site-packages (from google-api-core<3,>=1.23.0->feast[gcp]) (1.26.1)\n",
      "Requirement already satisfied: google-auth<3.0.0,>=2.14.1 in /opt/conda/lib/python3.10/site-packages (from google-api-core<3,>=1.23.0->feast[gcp]) (2.40.3)\n",
      "Requirement already satisfied: cachetools<6.0,>=2.0.0 in /opt/conda/lib/python3.10/site-packages (from google-auth<3.0.0,>=2.14.1->google-api-core<3,>=1.23.0->feast[gcp]) (5.5.2)\n",
      "Requirement already satisfied: pyasn1-modules>=0.2.1 in /opt/conda/lib/python3.10/site-packages (from google-auth<3.0.0,>=2.14.1->google-api-core<3,>=1.23.0->feast[gcp]) (0.4.2)\n",
      "Requirement already satisfied: rsa<5,>=3.1.4 in /opt/conda/lib/python3.10/site-packages (from google-auth<3.0.0,>=2.14.1->google-api-core<3,>=1.23.0->feast[gcp]) (4.9.1)\n",
      "Requirement already satisfied: google-cloud-core<3.0.0,>=2.4.1 in /opt/conda/lib/python3.10/site-packages (from google-cloud-bigquery<4,>=2->google-cloud-bigquery[pandas]<4,>=2; extra == \"gcp\"->feast[gcp]) (2.4.3)\n",
      "Requirement already satisfied: google-resumable-media<3.0.0,>=2.0.0 in /opt/conda/lib/python3.10/site-packages (from google-cloud-bigquery<4,>=2->google-cloud-bigquery[pandas]<4,>=2; extra == \"gcp\"->feast[gcp]) (2.7.2)\n",
      "Requirement already satisfied: packaging>=24.2.0 in /opt/conda/lib/python3.10/site-packages (from google-cloud-bigquery<4,>=2->google-cloud-bigquery[pandas]<4,>=2; extra == \"gcp\"->feast[gcp]) (25.0)\n",
      "Requirement already satisfied: grpcio<2.0.0,>=1.33.2 in /opt/conda/lib/python3.10/site-packages (from google-api-core[grpc]<3.0.0,>=2.11.1->google-cloud-bigquery<4,>=2->google-cloud-bigquery[pandas]<4,>=2; extra == \"gcp\"->feast[gcp]) (1.75.0)\n",
      "Requirement already satisfied: grpcio-status<2.0.0,>=1.33.2 in /opt/conda/lib/python3.10/site-packages (from google-api-core[grpc]<3.0.0,>=2.11.1->google-cloud-bigquery<4,>=2->google-cloud-bigquery[pandas]<4,>=2; extra == \"gcp\"->feast[gcp]) (1.75.0)\n",
      "Requirement already satisfied: pandas-gbq>=0.26.1 in /opt/conda/lib/python3.10/site-packages (from google-cloud-bigquery[pandas]<4,>=2; extra == \"gcp\"->feast[gcp]) (0.29.2)\n",
      "Requirement already satisfied: db-dtypes<2.0.0,>=1.0.4 in /opt/conda/lib/python3.10/site-packages (from google-cloud-bigquery[pandas]<4,>=2; extra == \"gcp\"->feast[gcp]) (1.4.3)\n",
      "Requirement already satisfied: grpc-google-iam-v1<1.0.0,>=0.12.4 in /opt/conda/lib/python3.10/site-packages (from google-cloud-bigtable<3,>=2.11.0->feast[gcp]) (0.14.2)\n",
      "Requirement already satisfied: google-crc32c<2.0.0dev,>=1.5.0 in /opt/conda/lib/python3.10/site-packages (from google-cloud-bigtable<3,>=2.11.0->feast[gcp]) (1.7.1)\n",
      "Requirement already satisfied: six>=1.5 in /opt/conda/lib/python3.10/site-packages (from python-dateutil>=2.8.2->pandas<3,>=1.4.3->feast) (1.17.0)\n",
      "Requirement already satisfied: charset_normalizer<4,>=2 in /opt/conda/lib/python3.10/site-packages (from requests->feast) (3.4.2)\n",
      "Requirement already satisfied: idna<4,>=2.5 in /opt/conda/lib/python3.10/site-packages (from requests->feast) (3.10)\n",
      "Requirement already satisfied: urllib3<3,>=1.21.1 in /opt/conda/lib/python3.10/site-packages (from requests->feast) (2.5.0)\n",
      "Requirement already satisfied: certifi>=2017.4.17 in /opt/conda/lib/python3.10/site-packages (from requests->feast) (2025.8.3)\n",
      "Requirement already satisfied: pyasn1>=0.1.3 in /opt/conda/lib/python3.10/site-packages (from rsa<5,>=3.1.4->google-auth<3.0.0,>=2.14.1->google-api-core<3,>=1.23.0->feast[gcp]) (0.6.1)\n",
      "Requirement already satisfied: cloudpickle>=3.0.0 in /opt/conda/lib/python3.10/site-packages (from dask>=2024.2.1->dask[dataframe]>=2024.2.1->feast) (3.1.1)\n",
      "Requirement already satisfied: partd>=1.4.0 in /opt/conda/lib/python3.10/site-packages (from dask>=2024.2.1->dask[dataframe]>=2024.2.1->feast) (1.4.2)\n",
      "Requirement already satisfied: toolz>=0.10.0 in /opt/conda/lib/python3.10/site-packages (from dask>=2024.2.1->dask[dataframe]>=2024.2.1->feast) (1.0.0)\n",
      "Requirement already satisfied: importlib_metadata>=4.13.0 in /opt/conda/lib/python3.10/site-packages (from dask>=2024.2.1->dask[dataframe]>=2024.2.1->feast) (8.7.0)\n",
      "Requirement already satisfied: starlette<0.49.0,>=0.40.0 in /opt/conda/lib/python3.10/site-packages (from fastapi>=0.68.0->feast) (0.48.0)\n",
      "Requirement already satisfied: anyio<5,>=3.6.2 in /opt/conda/lib/python3.10/site-packages (from starlette<0.49.0,>=0.40.0->fastapi>=0.68.0->feast) (4.10.0)\n",
      "Requirement already satisfied: exceptiongroup>=1.0.2 in /opt/conda/lib/python3.10/site-packages (from anyio<5,>=3.6.2->starlette<0.49.0,>=0.40.0->fastapi>=0.68.0->feast) (1.3.0)\n",
      "Requirement already satisfied: sniffio>=1.1 in /opt/conda/lib/python3.10/site-packages (from anyio<5,>=3.6.2->starlette<0.49.0,>=0.40.0->fastapi>=0.68.0->feast) (1.3.1)\n",
      "Requirement already satisfied: zipp>=3.20 in /opt/conda/lib/python3.10/site-packages (from importlib_metadata>=4.13.0->dask>=2024.2.1->dask[dataframe]>=2024.2.1->feast) (3.23.0)\n",
      "Requirement already satisfied: setuptools in /opt/conda/lib/python3.10/site-packages (from pandas-gbq>=0.26.1->google-cloud-bigquery[pandas]<4,>=2; extra == \"gcp\"->feast[gcp]) (80.9.0)\n",
      "Requirement already satisfied: pydata-google-auth>=1.5.0 in /opt/conda/lib/python3.10/site-packages (from pandas-gbq>=0.26.1->google-cloud-bigquery[pandas]<4,>=2; extra == \"gcp\"->feast[gcp]) (1.9.1)\n",
      "Requirement already satisfied: google-auth-oauthlib>=0.7.0 in /opt/conda/lib/python3.10/site-packages (from pandas-gbq>=0.26.1->google-cloud-bigquery[pandas]<4,>=2; extra == \"gcp\"->feast[gcp]) (1.2.2)\n",
      "Requirement already satisfied: requests-oauthlib>=0.7.0 in /opt/conda/lib/python3.10/site-packages (from google-auth-oauthlib>=0.7.0->pandas-gbq>=0.26.1->google-cloud-bigquery[pandas]<4,>=2; extra == \"gcp\"->feast[gcp]) (2.0.0)\n",
      "Requirement already satisfied: locket in /opt/conda/lib/python3.10/site-packages (from partd>=1.4.0->dask>=2024.2.1->dask[dataframe]>=2024.2.1->feast) (1.0.0)\n",
      "Requirement already satisfied: oauthlib>=3.0.0 in /opt/conda/lib/python3.10/site-packages (from requests-oauthlib>=0.7.0->google-auth-oauthlib>=0.7.0->pandas-gbq>=0.26.1->google-cloud-bigquery[pandas]<4,>=2; extra == \"gcp\"->feast[gcp]) (3.3.1)\n",
      "Requirement already satisfied: greenlet>=1 in /opt/conda/lib/python3.10/site-packages (from SQLAlchemy>1->SQLAlchemy[mypy]>1->feast) (3.2.4)\n",
      "Requirement already satisfied: mypy>=0.910 in /opt/conda/lib/python3.10/site-packages (from SQLAlchemy[mypy]>1->feast) (1.18.2)\n",
      "Requirement already satisfied: mypy_extensions>=1.0.0 in /opt/conda/lib/python3.10/site-packages (from mypy>=0.910->SQLAlchemy[mypy]>1->feast) (1.1.0)\n",
      "Requirement already satisfied: pathspec>=0.9.0 in /opt/conda/lib/python3.10/site-packages (from mypy>=0.910->SQLAlchemy[mypy]>1->feast) (0.12.1)\n",
      "Requirement already satisfied: tomli>=1.1.0 in /opt/conda/lib/python3.10/site-packages (from mypy>=0.910->SQLAlchemy[mypy]>1->feast) (2.2.1)\n",
      "Requirement already satisfied: attrs>=22.2.0 in /opt/conda/lib/python3.10/site-packages (from jsonschema->feast) (25.3.0)\n",
      "Requirement already satisfied: jsonschema-specifications>=2023.03.6 in /opt/conda/lib/python3.10/site-packages (from jsonschema->feast) (2025.9.1)\n",
      "Requirement already satisfied: referencing>=0.28.4 in /opt/conda/lib/python3.10/site-packages (from jsonschema->feast) (0.36.2)\n",
      "Requirement already satisfied: rpds-py>=0.7.1 in /opt/conda/lib/python3.10/site-packages (from jsonschema->feast) (0.27.1)\n"
     ]
    }
   ],
   "source": [
    "!pip install feast scikit-learn 'feast[gcp]' "
   ]
  },
  {
   "cell_type": "code",
   "execution_count": 27,
   "metadata": {
    "colab": {
     "base_uri": "https://localhost:8080/"
    },
    "id": "G4Zc_JFo7TCo",
    "outputId": "3ea96eee-21a5-4b69-b534-a54036c3fa77",
    "tags": []
   },
   "outputs": [],
   "source": [
    "!pip install numpy==2.1 --quiet"
   ]
  },
  {
   "cell_type": "code",
   "execution_count": 28,
   "metadata": {
    "id": "yk5Ofyh57WaY",
    "tags": []
   },
   "outputs": [],
   "source": [
    "!pip install feast==0.54 --upgrade --quiet"
   ]
  },
  {
   "cell_type": "code",
   "execution_count": 29,
   "metadata": {
    "colab": {
     "base_uri": "https://localhost:8080/"
    },
    "id": "UfYqNKpI7ZR1",
    "outputId": "1ef744cb-b95e-4b3e-99c3-3ad9aefa3dfe",
    "tags": []
   },
   "outputs": [
    {
     "name": "stdout",
     "output_type": "stream",
     "text": [
      "\u001b[1m\u001b[34mFeast SDK Version: \u001b[1m\u001b[32m\"0.54.0\"\n"
     ]
    }
   ],
   "source": [
    "!feast version"
   ]
  },
  {
   "cell_type": "code",
   "execution_count": 30,
   "metadata": {
    "colab": {
     "base_uri": "https://localhost:8080/"
    },
    "id": "q8_1QYkAdcAz",
    "outputId": "6e1973d5-4009-421f-d692-2e0cb3a430b0",
    "tags": []
   },
   "outputs": [
    {
     "name": "stdout",
     "output_type": "stream",
     "text": [
      "Requirement already satisfied: google-cloud-bigquery in /opt/conda/lib/python3.10/site-packages (3.37.0)\n",
      "Requirement already satisfied: google-api-core<3.0.0,>=2.11.1 in /opt/conda/lib/python3.10/site-packages (from google-api-core[grpc]<3.0.0,>=2.11.1->google-cloud-bigquery) (2.25.1)\n",
      "Requirement already satisfied: google-auth<3.0.0,>=2.14.1 in /opt/conda/lib/python3.10/site-packages (from google-cloud-bigquery) (2.40.3)\n",
      "Requirement already satisfied: google-cloud-core<3.0.0,>=2.4.1 in /opt/conda/lib/python3.10/site-packages (from google-cloud-bigquery) (2.4.3)\n",
      "Requirement already satisfied: google-resumable-media<3.0.0,>=2.0.0 in /opt/conda/lib/python3.10/site-packages (from google-cloud-bigquery) (2.7.2)\n",
      "Requirement already satisfied: packaging>=24.2.0 in /opt/conda/lib/python3.10/site-packages (from google-cloud-bigquery) (25.0)\n",
      "Requirement already satisfied: python-dateutil<3.0.0,>=2.8.2 in /opt/conda/lib/python3.10/site-packages (from google-cloud-bigquery) (2.9.0.post0)\n",
      "Requirement already satisfied: requests<3.0.0,>=2.21.0 in /opt/conda/lib/python3.10/site-packages (from google-cloud-bigquery) (2.32.5)\n",
      "Requirement already satisfied: googleapis-common-protos<2.0.0,>=1.56.2 in /opt/conda/lib/python3.10/site-packages (from google-api-core<3.0.0,>=2.11.1->google-api-core[grpc]<3.0.0,>=2.11.1->google-cloud-bigquery) (1.70.0)\n",
      "Requirement already satisfied: protobuf!=3.20.0,!=3.20.1,!=4.21.0,!=4.21.1,!=4.21.2,!=4.21.3,!=4.21.4,!=4.21.5,<7.0.0,>=3.19.5 in /opt/conda/lib/python3.10/site-packages (from google-api-core<3.0.0,>=2.11.1->google-api-core[grpc]<3.0.0,>=2.11.1->google-cloud-bigquery) (6.31.1)\n",
      "Requirement already satisfied: proto-plus<2.0.0,>=1.22.3 in /opt/conda/lib/python3.10/site-packages (from google-api-core<3.0.0,>=2.11.1->google-api-core[grpc]<3.0.0,>=2.11.1->google-cloud-bigquery) (1.26.1)\n",
      "Requirement already satisfied: grpcio<2.0.0,>=1.33.2 in /opt/conda/lib/python3.10/site-packages (from google-api-core[grpc]<3.0.0,>=2.11.1->google-cloud-bigquery) (1.75.0)\n",
      "Requirement already satisfied: grpcio-status<2.0.0,>=1.33.2 in /opt/conda/lib/python3.10/site-packages (from google-api-core[grpc]<3.0.0,>=2.11.1->google-cloud-bigquery) (1.75.0)\n",
      "Requirement already satisfied: cachetools<6.0,>=2.0.0 in /opt/conda/lib/python3.10/site-packages (from google-auth<3.0.0,>=2.14.1->google-cloud-bigquery) (5.5.2)\n",
      "Requirement already satisfied: pyasn1-modules>=0.2.1 in /opt/conda/lib/python3.10/site-packages (from google-auth<3.0.0,>=2.14.1->google-cloud-bigquery) (0.4.2)\n",
      "Requirement already satisfied: rsa<5,>=3.1.4 in /opt/conda/lib/python3.10/site-packages (from google-auth<3.0.0,>=2.14.1->google-cloud-bigquery) (4.9.1)\n",
      "Requirement already satisfied: google-crc32c<2.0dev,>=1.0 in /opt/conda/lib/python3.10/site-packages (from google-resumable-media<3.0.0,>=2.0.0->google-cloud-bigquery) (1.7.1)\n",
      "Requirement already satisfied: typing-extensions~=4.12 in /opt/conda/lib/python3.10/site-packages (from grpcio<2.0.0,>=1.33.2->google-api-core[grpc]<3.0.0,>=2.11.1->google-cloud-bigquery) (4.15.0)\n",
      "Requirement already satisfied: six>=1.5 in /opt/conda/lib/python3.10/site-packages (from python-dateutil<3.0.0,>=2.8.2->google-cloud-bigquery) (1.17.0)\n",
      "Requirement already satisfied: charset_normalizer<4,>=2 in /opt/conda/lib/python3.10/site-packages (from requests<3.0.0,>=2.21.0->google-cloud-bigquery) (3.4.2)\n",
      "Requirement already satisfied: idna<4,>=2.5 in /opt/conda/lib/python3.10/site-packages (from requests<3.0.0,>=2.21.0->google-cloud-bigquery) (3.10)\n",
      "Requirement already satisfied: urllib3<3,>=1.21.1 in /opt/conda/lib/python3.10/site-packages (from requests<3.0.0,>=2.21.0->google-cloud-bigquery) (2.5.0)\n",
      "Requirement already satisfied: certifi>=2017.4.17 in /opt/conda/lib/python3.10/site-packages (from requests<3.0.0,>=2.21.0->google-cloud-bigquery) (2025.8.3)\n",
      "Requirement already satisfied: pyasn1>=0.1.3 in /opt/conda/lib/python3.10/site-packages (from rsa<5,>=3.1.4->google-auth<3.0.0,>=2.14.1->google-cloud-bigquery) (0.6.1)\n"
     ]
    }
   ],
   "source": [
    "!pip install google-cloud-bigquery"
   ]
  },
  {
   "cell_type": "markdown",
   "metadata": {
    "id": "9Pyoct4f95dn"
   },
   "source": [
    "### Data"
   ]
  },
  {
   "cell_type": "code",
   "execution_count": 31,
   "metadata": {
    "colab": {
     "base_uri": "https://localhost:8080/"
    },
    "id": "C8mzPTcD7P4z",
    "outputId": "992d9dec-b2c2-4618-9e47-e94b61066aa6",
    "tags": []
   },
   "outputs": [
    {
     "name": "stdout",
     "output_type": "stream",
     "text": [
      "--2025-10-12 09:23:19--  https://raw.githubusercontent.com/IITMBSMLOps/ga_resources/refs/heads/week_3/iris_data_adapted_for_feast.csv\n",
      "Resolving raw.githubusercontent.com (raw.githubusercontent.com)... 185.199.108.133, 185.199.109.133, 185.199.111.133, ...\n",
      "Connecting to raw.githubusercontent.com (raw.githubusercontent.com)|185.199.108.133|:443... connected.\n",
      "HTTP request sent, awaiting response... 200 OK\n",
      "Length: 4009 (3.9K) [text/plain]\n",
      "Saving to: ‘iris_data_adapted_for_feast.csv’\n",
      "\n",
      "iris_data_adapted_f 100%[===================>]   3.92K  --.-KB/s    in 0s      \n",
      "\n",
      "2025-10-12 09:23:19 (60.1 MB/s) - ‘iris_data_adapted_for_feast.csv’ saved [4009/4009]\n",
      "\n"
     ]
    }
   ],
   "source": [
    "!wget https://raw.githubusercontent.com/IITMBSMLOps/ga_resources/refs/heads/week_3/iris_data_adapted_for_feast.csv"
   ]
  },
  {
   "cell_type": "code",
   "execution_count": 32,
   "metadata": {
    "colab": {
     "base_uri": "https://localhost:8080/"
    },
    "id": "Lyzxt-5d_TAx",
    "outputId": "6cced003-d4f9-4bc9-be81-298a6181a819",
    "tags": []
   },
   "outputs": [
    {
     "name": "stdout",
     "output_type": "stream",
     "text": [
      "\n",
      "Creating a new Feast repository in /home/jupyter/iris_feature_repo.\n",
      "\n"
     ]
    }
   ],
   "source": [
    "%%bash\n",
    "feast init iris_feature_repo\n",
    "cd iris_feature_repo"
   ]
  },
  {
   "cell_type": "code",
   "execution_count": 33,
   "metadata": {
    "id": "MkJWBboE_cRB",
    "tags": []
   },
   "outputs": [],
   "source": [
    "repo = \"/home/jupyter/iris_feature_repo/feature_repo\""
   ]
  },
  {
   "cell_type": "markdown",
   "metadata": {
    "id": "jsXZOI8x-Axf"
   },
   "source": [
    "## GCP and BigQuery"
   ]
  },
  {
   "cell_type": "code",
   "execution_count": null,
   "metadata": {
    "id": "D1ISrrEL97XQ"
   },
   "outputs": [],
   "source": [
    "#FOR COLAB\n",
    "\n",
    "# from google.colab import auth\n",
    "# auth.authenticate_user()"
   ]
  },
  {
   "cell_type": "code",
   "execution_count": 34,
   "metadata": {
    "colab": {
     "base_uri": "https://localhost:8080/"
    },
    "id": "Q1MYqBue-Fg-",
    "outputId": "8e741af4-196b-4509-cd02-ed2b4f5bddbd",
    "tags": []
   },
   "outputs": [],
   "source": [
    "PROJECT_ID= \"gentle-presence-472611-u8\" #@param {type:\"string\"}\n",
    "BUCKET_NAME= \"mlops-course-gentle-presence-472611-u8-v4-unique-week1\" #@param {type:\"string\"} custom\n",
    "BIGQUERY_DATASET_NAME=\"feast_iris_data\" #@param {type:\"string\"} custom\n",
    "TABLE_ID = \"iris_features\" #@param {type:\"string\"\n",
    "\n",
    "# ! gcloud config set project $PROJECT_ID\n",
    "# %env GOOGLE_CLOUD_PROJECT= $PROJECT_ID\n",
    "# !echo project_id = $PROJECT_ID > ~/.bigqueryrc"
   ]
  },
  {
   "cell_type": "markdown",
   "metadata": {
    "id": "Zcmv92tuc1jT"
   },
   "source": [
    "- Create table in BigQuery"
   ]
  },
  {
   "cell_type": "code",
   "execution_count": 35,
   "metadata": {
    "id": "sz9wSB7ac05q",
    "tags": []
   },
   "outputs": [],
   "source": [
    "from google.cloud import bigquery\n",
    "\n",
    "client = bigquery.Client(project=PROJECT_ID)\n",
    "\n",
    "#FOR creating dataset \n",
    "\n",
    "#dataset_ref = client.dataset(BIGQUERY_DATASET_NAME)\n",
    "#dataset = bigquery.Dataset(dataset_ref)\n",
    "#dataset = client.create_dataset(dataset)"
   ]
  },
  {
   "cell_type": "code",
   "execution_count": 36,
   "metadata": {
    "colab": {
     "base_uri": "https://localhost:8080/"
    },
    "id": "Dv95z4StmJaX",
    "outputId": "fc30393c-c072-47a6-e294-6bf4f0c2db16",
    "tags": []
   },
   "outputs": [],
   "source": [
    "import pandas as pd\n",
    "df = pd.read_csv(\"iris_data_adapted_for_feast.csv\")\n",
    "# df[\"event_timestamp\"] = pd.to_datetime(df[\"event_timestamp\"]).dt.tz_localize(None)\n",
    "# df[\"created_timestamp\"] = pd.to_datetime(df[\"created_timestamp\"]).dt.tz_localize(None)\n",
    "\n",
    "df[\"event_timestamp\"] = pd.to_datetime(df[\"event_timestamp\"], utc=True)\n",
    "df[\"created_timestamp\"] = pd.to_datetime(df[\"created_timestamp\"], utc=True)"
   ]
  },
  {
   "cell_type": "code",
   "execution_count": 37,
   "metadata": {
    "colab": {
     "base_uri": "https://localhost:8080/",
     "height": 391
    },
    "id": "ChK5O0GNmMHr",
    "outputId": "1e05d4c5-903d-4926-cc06-c419c8a93b2d",
    "tags": []
   },
   "outputs": [
    {
     "data": {
      "text/plain": [
       "event_timestamp      datetime64[ns, UTC]\n",
       "iris_id                            int64\n",
       "sepal_length                     float64\n",
       "sepal_width                      float64\n",
       "petal_length                     float64\n",
       "petal_width                      float64\n",
       "species                           object\n",
       "created_timestamp    datetime64[ns, UTC]\n",
       "dtype: object"
      ]
     },
     "execution_count": 37,
     "metadata": {},
     "output_type": "execute_result"
    }
   ],
   "source": [
    "df.dtypes"
   ]
  },
  {
   "cell_type": "code",
   "execution_count": 38,
   "metadata": {
    "colab": {
     "base_uri": "https://localhost:8080/"
    },
    "id": "Iww6_1kUmh3i",
    "outputId": "00ad91d1-6baf-4d4c-d067-622dc4d4ae9c",
    "tags": []
   },
   "outputs": [
    {
     "name": "stdout",
     "output_type": "stream",
     "text": [
      "Table created!\n"
     ]
    }
   ],
   "source": [
    "table_ref = dataset_ref.table(TABLE_ID)\n",
    "\n",
    "job = client.load_table_from_dataframe(df, table_ref)\n",
    "job.result()\n",
    "\n",
    "print(\"Table created!\")"
   ]
  },
  {
   "cell_type": "markdown",
   "metadata": {
    "id": "tPLKPB01z_JJ"
   },
   "source": [
    "## Feature Store"
   ]
  },
  {
   "cell_type": "markdown",
   "metadata": {
    "id": "qtNp12mw_6jQ"
   },
   "source": [
    "- Define the feature view in the iris repository\n",
    "- Modify the YAML file to set bigquery as the offline store"
   ]
  },
  {
   "cell_type": "code",
   "execution_count": null,
   "metadata": {
    "id": "kfja-qk4zf8K"
   },
   "outputs": [],
   "source": [
    "\"\"\"\n",
    "project: iris_classification\n",
    "registry: data/registry.db\n",
    "provider: gcp\n",
    "offline_store:\n",
    "  type: bigquery\n",
    "\n",
    "\"\"\""
   ]
  },
  {
   "cell_type": "code",
   "execution_count": null,
   "metadata": {
    "id": "7_8j125tzok6"
   },
   "outputs": [],
   "source": [
    "\"\"\"\n",
    "from datetime import timedelta\n",
    "\n",
    "from feast import BigQuerySource, Entity, Feature, FeatureView, ValueType, Field\n",
    "from feast.types import Float64, Int64\n",
    "\n",
    "iris_entity = Entity(name=\"iris_id\", join_keys=[\"iris_id\"], value_type=ValueType.INT64,)\n",
    "\n",
    "table = \"gentle-presence-472611-u8.feast_iris_data.iris_features\"\n",
    "\n",
    "iris_data_source = BigQuerySource(\n",
    "    table=table,\n",
    "    timestamp_field=\"event_timestamp\",\n",
    "    created_timestamp_column=\"created_timestamp\",\n",
    ")\n",
    "\n",
    "iris_feature_view = FeatureView(\n",
    "    name=\"iris_feature_view\",\n",
    "    entities=[iris_entity],\n",
    "    ttl=timedelta(weeks=52),\n",
    "    schema=[\n",
    "        Field(name=\"sepal_length\", dtype=Float64),\n",
    "        Field(name=\"sepal_width\", dtype=Float64),\n",
    "        Field(name=\"petal_length\", dtype=Float64),\n",
    "        Field(name=\"petal_width\", dtype=Float64),\n",
    "    ],\n",
    "    source=iris_data_source,\n",
    "    tags={\"team\": \"iris_species\"},\n",
    ")\n",
    "\"\"\""
   ]
  },
  {
   "cell_type": "code",
   "execution_count": 58,
   "metadata": {
    "colab": {
     "base_uri": "https://localhost:8080/"
    },
    "id": "fvybNef--H2p",
    "outputId": "7777855f-b815-4068-9a6c-01b622df9a4e",
    "tags": []
   },
   "outputs": [
    {
     "name": "stdout",
     "output_type": "stream",
     "text": [
      "No project found in the repository. Using project name iris_classification defined in feature_store.yaml\n",
      "Applying changes for project iris_classification\n",
      "Deploying infrastructure for iris_feature_view\n"
     ]
    }
   ],
   "source": [
    "%%bash\n",
    "cd iris_feature_repo/feature_repo\n",
    "feast apply"
   ]
  },
  {
   "cell_type": "code",
   "execution_count": 59,
   "metadata": {
    "tags": []
   },
   "outputs": [
    {
     "data": {
      "text/plain": [
       "<FeatureView(name = iris_feature_view, entities = ['iris_id'], ttl = 364 days, 0:00:00, stream_source = None, data_source = {\n",
       "  \"type\": \"BATCH_BIGQUERY\",\n",
       "  \"timestampField\": \"event_timestamp\",\n",
       "  \"createdTimestampColumn\": \"created_timestamp\",\n",
       "  \"bigqueryOptions\": {\n",
       "    \"table\": \"gentle-presence-472611-u8.feast_iris_data.iris_features\"\n",
       "  },\n",
       "  \"name\": \"gentle-presence-472611-u8.feast_iris_data.iris_features\",\n",
       "  \"meta\": {\n",
       "    \"createdTimestamp\": \"2025-10-12T09:44:29.219383Z\",\n",
       "    \"lastUpdatedTimestamp\": \"2025-10-12T09:44:29.415131Z\"\n",
       "  }\n",
       "}, source_views = [], batch_source = {\n",
       "  \"type\": \"BATCH_BIGQUERY\",\n",
       "  \"timestampField\": \"event_timestamp\",\n",
       "  \"createdTimestampColumn\": \"created_timestamp\",\n",
       "  \"bigqueryOptions\": {\n",
       "    \"table\": \"gentle-presence-472611-u8.feast_iris_data.iris_features\"\n",
       "  },\n",
       "  \"name\": \"gentle-presence-472611-u8.feast_iris_data.iris_features\",\n",
       "  \"meta\": {\n",
       "    \"createdTimestamp\": \"2025-10-12T09:44:29.219383Z\",\n",
       "    \"lastUpdatedTimestamp\": \"2025-10-12T09:44:29.415131Z\"\n",
       "  }\n",
       "}, entity_columns = [Field(\n",
       "    name='iris_id',\n",
       "    dtype=<PrimitiveFeastType.INT64: 4>,\n",
       "    description='',\n",
       "    tags={}\n",
       "    vector_index=False\n",
       "    vector_length=0\n",
       "    vector_search_metric=''\n",
       ")], features = [Field(\n",
       "    name='sepal_length',\n",
       "    dtype=<PrimitiveFeastType.FLOAT64: 5>,\n",
       "    description='',\n",
       "    tags={}\n",
       "    vector_index=False\n",
       "    vector_length=0\n",
       "    vector_search_metric=''\n",
       "), Field(\n",
       "    name='sepal_width',\n",
       "    dtype=<PrimitiveFeastType.FLOAT64: 5>,\n",
       "    description='',\n",
       "    tags={}\n",
       "    vector_index=False\n",
       "    vector_length=0\n",
       "    vector_search_metric=''\n",
       "), Field(\n",
       "    name='petal_length',\n",
       "    dtype=<PrimitiveFeastType.FLOAT64: 5>,\n",
       "    description='',\n",
       "    tags={}\n",
       "    vector_index=False\n",
       "    vector_length=0\n",
       "    vector_search_metric=''\n",
       "), Field(\n",
       "    name='petal_width',\n",
       "    dtype=<PrimitiveFeastType.FLOAT64: 5>,\n",
       "    description='',\n",
       "    tags={}\n",
       "    vector_index=False\n",
       "    vector_length=0\n",
       "    vector_search_metric=''\n",
       ")], description = , tags = {'team': 'iris_species'}, owner = , projection = FeatureViewProjection(name='iris_feature_view', name_alias=None, desired_features=[], features=[Field(\n",
       "    name='sepal_length',\n",
       "    dtype=<PrimitiveFeastType.FLOAT64: 5>,\n",
       "    description='',\n",
       "    tags={}\n",
       "    vector_index=False\n",
       "    vector_length=0\n",
       "    vector_search_metric=''\n",
       "), Field(\n",
       "    name='sepal_width',\n",
       "    dtype=<PrimitiveFeastType.FLOAT64: 5>,\n",
       "    description='',\n",
       "    tags={}\n",
       "    vector_index=False\n",
       "    vector_length=0\n",
       "    vector_search_metric=''\n",
       "), Field(\n",
       "    name='petal_length',\n",
       "    dtype=<PrimitiveFeastType.FLOAT64: 5>,\n",
       "    description='',\n",
       "    tags={}\n",
       "    vector_index=False\n",
       "    vector_length=0\n",
       "    vector_search_metric=''\n",
       "), Field(\n",
       "    name='petal_width',\n",
       "    dtype=<PrimitiveFeastType.FLOAT64: 5>,\n",
       "    description='',\n",
       "    tags={}\n",
       "    vector_index=False\n",
       "    vector_length=0\n",
       "    vector_search_metric=''\n",
       ")], join_key_map={}, timestamp_field='created_timestamp', date_partition_column=None, created_timestamp_column='created_timestamp', batch_source=<feast.infra.offline_stores.bigquery_source.BigQuerySource object at 0x7f4862caf1f0>), created_timestamp = 2025-10-12 09:27:31.418603, last_updated_timestamp = 2025-10-12 09:44:29.415477, source = {\n",
       "  \"type\": \"BATCH_BIGQUERY\",\n",
       "  \"timestampField\": \"event_timestamp\",\n",
       "  \"createdTimestampColumn\": \"created_timestamp\",\n",
       "  \"bigqueryOptions\": {\n",
       "    \"table\": \"gentle-presence-472611-u8.feast_iris_data.iris_features\"\n",
       "  },\n",
       "  \"name\": \"gentle-presence-472611-u8.feast_iris_data.iris_features\",\n",
       "  \"meta\": {\n",
       "    \"createdTimestamp\": \"2025-10-12T09:44:29.219383Z\",\n",
       "    \"lastUpdatedTimestamp\": \"2025-10-12T09:44:29.415131Z\"\n",
       "  }\n",
       "}, online = True, offline = False, materialization_intervals = [(datetime.datetime(2025, 9, 17, 0, 0, tzinfo=datetime.timezone.utc), datetime.datetime(2025, 10, 1, 0, 0, tzinfo=datetime.timezone.utc))])>"
      ]
     },
     "execution_count": 59,
     "metadata": {},
     "output_type": "execute_result"
    }
   ],
   "source": [
    "fs.get_feature_view(\"iris_feature_view\")"
   ]
  },
  {
   "cell_type": "markdown",
   "metadata": {
    "id": "ftK_5pFx-SML"
   },
   "source": [
    "## Train and Materialize\n",
    "- Split into train, val, test\n",
    "- Store train and val features in Offline store for batch evalation\n",
    "- Predict on the val data"
   ]
  },
  {
   "cell_type": "code",
   "execution_count": 46,
   "metadata": {
    "colab": {
     "base_uri": "https://localhost:8080/"
    },
    "id": "E1b8g9I_-OSs",
    "outputId": "16b299c9-ab8f-4b58-d1f6-409e4cb99dfb",
    "tags": []
   },
   "outputs": [],
   "source": [
    "import feast\n",
    "from joblib import dump\n",
    "import numpy as np\n",
    "from sklearn.model_selection import train_test_split\n",
    "from pandas.plotting import parallel_coordinates\n",
    "from sklearn.tree import DecisionTreeClassifier, plot_tree\n",
    "from sklearn import metrics\n",
    "\n",
    "# Load the data\n",
    "df = pd.read_csv(\"iris_data_adapted_for_feast.csv\")\n",
    "df[\"event_timestamp\"] = pd.to_datetime(df[\"event_timestamp\"]).dt.tz_localize(None)\n",
    "df[\"created_timestamp\"] = pd.to_datetime(df[\"created_timestamp\"]).dt.tz_localize(None)\n",
    "\n",
    "# Split into train/test\n",
    "train_val, test = train_test_split(df, test_size = 0.15, stratify = df['species'], random_state = 42)\n",
    "train, val = train_test_split(train_val, test_size = 0.3, stratify = train_val['species'], random_state = 42)\n",
    "\n",
    "# Connect to your local feature store\n",
    "fs = feast.FeatureStore(repo_path=\"iris_feature_repo/feature_repo\")\n",
    "\n",
    "# Retrieve training and val data from BigQuery\n",
    "features_ref = [\n",
    "        \"iris_feature_view:sepal_length\",\n",
    "        \"iris_feature_view:sepal_width\",\n",
    "        \"iris_feature_view:petal_length\",\n",
    "        \"iris_feature_view:petal_width\",\n",
    "    ]\n",
    "\n",
    "feature_cols = [\"sepal_length\", \"sepal_width\", \"petal_length\", \"petal_width\", \"species\"]\n",
    "\n",
    "# Drop features from entity dataframe\n",
    "train_entity = train.drop(columns=feature_cols)\n",
    "val_entity = val.drop(columns=feature_cols)\n",
    "\n",
    "train_features = fs.get_historical_features(\n",
    "    entity_df = train_entity,\n",
    "    features = features_ref,\n",
    ").to_df()\n",
    "\n",
    "val_features = fs.get_historical_features(\n",
    "    entity_df = val_entity,\n",
    "    features = features_ref,\n",
    ").to_df()\n"
   ]
  },
  {
   "cell_type": "code",
   "execution_count": 47,
   "metadata": {
    "colab": {
     "base_uri": "https://localhost:8080/"
    },
    "id": "bC6Z2Wnlrpai",
    "outputId": "781c9887-a220-4573-8175-9d4b31f37b6c",
    "tags": []
   },
   "outputs": [
    {
     "data": {
      "text/plain": [
       "['iris_model.bin']"
      ]
     },
     "execution_count": 47,
     "metadata": {},
     "output_type": "execute_result"
    }
   ],
   "source": [
    "# Train val split\n",
    "X_train = train_features[['sepal_length','sepal_width','petal_length','petal_width']]\n",
    "y_train = train['species']\n",
    "X_val = val_features[['sepal_length','sepal_width','petal_length','petal_width']]\n",
    "y_val = val['species']\n",
    "\n",
    "#predict with the offline store on the val data\n",
    "#considering the val data as batch prediction and the test data here as real time inference\n",
    "\n",
    "iris_model = DecisionTreeClassifier(random_state = 1)\n",
    "iris_model.fit(X_train,y_train)\n",
    "\n",
    "# Save model\n",
    "dump(iris_model, \"iris_model.bin\")"
   ]
  },
  {
   "cell_type": "code",
   "execution_count": 48,
   "metadata": {
    "colab": {
     "base_uri": "https://localhost:8080/"
    },
    "id": "biqNfBiUUX_8",
    "outputId": "4c56f1a7-0fe0-41d5-ea03-0d0b06ee83a5",
    "tags": []
   },
   "outputs": [
    {
     "name": "stdout",
     "output_type": "stream",
     "text": [
      "The accuracy of the Decision Tree is 0.333\n"
     ]
    }
   ],
   "source": [
    "prediction=iris_model.predict(X_val)\n",
    "print('The accuracy of the Decision Tree is',\"{:.3f}\".format(metrics.accuracy_score(prediction,y_val)))"
   ]
  },
  {
   "cell_type": "code",
   "execution_count": 60,
   "metadata": {
    "tags": []
   },
   "outputs": [],
   "source": [
    "output = val_features.copy()\n",
    "output['predictions'] = prediction\n",
    "output.to_csv(\"predictions.csv\", index=False)"
   ]
  },
  {
   "cell_type": "code",
   "execution_count": 49,
   "metadata": {
    "colab": {
     "base_uri": "https://localhost:8080/"
    },
    "id": "xij-PbNM-UEI",
    "outputId": "b31a642b-4978-4204-e942-e9510190787c",
    "tags": []
   },
   "outputs": [
    {
     "name": "stdout",
     "output_type": "stream",
     "text": [
      "Materializing \u001b[1m\u001b[32m1\u001b[0m feature views from \u001b[1m\u001b[32m2025-09-17 00:00:00+00:00\u001b[0m to \u001b[1m\u001b[32m2025-10-01 00:00:00+00:00\u001b[0m into the \u001b[1m\u001b[32msqlite\u001b[0m online store.\n",
      "\n",
      "\u001b[1m\u001b[32miris_feature_view\u001b[0m:\n"
     ]
    }
   ],
   "source": [
    "!cd $repo && feast materialize 2025-09-17T00:00:00 2025-10-01T00:00:00"
   ]
  },
  {
   "cell_type": "markdown",
   "metadata": {
    "id": "jmfRbsB8-Uzn"
   },
   "source": [
    "## Fetch and Infer\n",
    "- Fetch from the Online Store\n",
    "- Infer on the test data"
   ]
  },
  {
   "cell_type": "code",
   "execution_count": 52,
   "metadata": {
    "tags": []
   },
   "outputs": [
    {
     "data": {
      "text/html": [
       "<div>\n",
       "<style scoped>\n",
       "    .dataframe tbody tr th:only-of-type {\n",
       "        vertical-align: middle;\n",
       "    }\n",
       "\n",
       "    .dataframe tbody tr th {\n",
       "        vertical-align: top;\n",
       "    }\n",
       "\n",
       "    .dataframe thead th {\n",
       "        text-align: right;\n",
       "    }\n",
       "</style>\n",
       "<table border=\"1\" class=\"dataframe\">\n",
       "  <thead>\n",
       "    <tr style=\"text-align: right;\">\n",
       "      <th></th>\n",
       "      <th>event_timestamp</th>\n",
       "      <th>iris_id</th>\n",
       "      <th>sepal_length</th>\n",
       "      <th>sepal_width</th>\n",
       "      <th>petal_length</th>\n",
       "      <th>petal_width</th>\n",
       "      <th>species</th>\n",
       "      <th>created_timestamp</th>\n",
       "    </tr>\n",
       "  </thead>\n",
       "  <tbody>\n",
       "    <tr>\n",
       "      <th>34</th>\n",
       "      <td>2025-09-21 10:40:17.102131</td>\n",
       "      <td>1003</td>\n",
       "      <td>5.04</td>\n",
       "      <td>3.48</td>\n",
       "      <td>1.48</td>\n",
       "      <td>0.32</td>\n",
       "      <td>setosa</td>\n",
       "      <td>2025-10-02 10:40:17.172178</td>\n",
       "    </tr>\n",
       "    <tr>\n",
       "      <th>11</th>\n",
       "      <td>2025-09-28 10:40:17.102131</td>\n",
       "      <td>1001</td>\n",
       "      <td>5.45</td>\n",
       "      <td>2.41</td>\n",
       "      <td>3.87</td>\n",
       "      <td>1.00</td>\n",
       "      <td>versicolor</td>\n",
       "      <td>2025-10-02 10:40:17.172178</td>\n",
       "    </tr>\n",
       "    <tr>\n",
       "      <th>22</th>\n",
       "      <td>2025-09-24 10:40:17.102131</td>\n",
       "      <td>1002</td>\n",
       "      <td>4.69</td>\n",
       "      <td>3.03</td>\n",
       "      <td>1.19</td>\n",
       "      <td>0.24</td>\n",
       "      <td>setosa</td>\n",
       "      <td>2025-10-02 10:40:17.172178</td>\n",
       "    </tr>\n",
       "    <tr>\n",
       "      <th>29</th>\n",
       "      <td>2025-10-01 10:40:17.102131</td>\n",
       "      <td>1002</td>\n",
       "      <td>4.84</td>\n",
       "      <td>2.90</td>\n",
       "      <td>1.29</td>\n",
       "      <td>0.20</td>\n",
       "      <td>setosa</td>\n",
       "      <td>2025-10-02 10:40:17.172178</td>\n",
       "    </tr>\n",
       "    <tr>\n",
       "      <th>25</th>\n",
       "      <td>2025-09-27 10:40:17.102131</td>\n",
       "      <td>1002</td>\n",
       "      <td>4.86</td>\n",
       "      <td>2.92</td>\n",
       "      <td>1.43</td>\n",
       "      <td>0.11</td>\n",
       "      <td>setosa</td>\n",
       "      <td>2025-10-02 10:40:17.172178</td>\n",
       "    </tr>\n",
       "    <tr>\n",
       "      <th>9</th>\n",
       "      <td>2025-09-26 10:40:17.102131</td>\n",
       "      <td>1001</td>\n",
       "      <td>5.52</td>\n",
       "      <td>2.41</td>\n",
       "      <td>3.76</td>\n",
       "      <td>1.11</td>\n",
       "      <td>versicolor</td>\n",
       "      <td>2025-10-02 10:40:17.172178</td>\n",
       "    </tr>\n",
       "    <tr>\n",
       "      <th>21</th>\n",
       "      <td>2025-09-23 10:40:17.102131</td>\n",
       "      <td>1002</td>\n",
       "      <td>4.91</td>\n",
       "      <td>3.01</td>\n",
       "      <td>1.41</td>\n",
       "      <td>0.30</td>\n",
       "      <td>setosa</td>\n",
       "      <td>2025-10-02 10:40:17.172178</td>\n",
       "    </tr>\n",
       "  </tbody>\n",
       "</table>\n",
       "</div>"
      ],
      "text/plain": [
       "              event_timestamp  iris_id  sepal_length  sepal_width  \\\n",
       "34 2025-09-21 10:40:17.102131     1003          5.04         3.48   \n",
       "11 2025-09-28 10:40:17.102131     1001          5.45         2.41   \n",
       "22 2025-09-24 10:40:17.102131     1002          4.69         3.03   \n",
       "29 2025-10-01 10:40:17.102131     1002          4.84         2.90   \n",
       "25 2025-09-27 10:40:17.102131     1002          4.86         2.92   \n",
       "9  2025-09-26 10:40:17.102131     1001          5.52         2.41   \n",
       "21 2025-09-23 10:40:17.102131     1002          4.91         3.01   \n",
       "\n",
       "    petal_length  petal_width     species          created_timestamp  \n",
       "34          1.48         0.32      setosa 2025-10-02 10:40:17.172178  \n",
       "11          3.87         1.00  versicolor 2025-10-02 10:40:17.172178  \n",
       "22          1.19         0.24      setosa 2025-10-02 10:40:17.172178  \n",
       "29          1.29         0.20      setosa 2025-10-02 10:40:17.172178  \n",
       "25          1.43         0.11      setosa 2025-10-02 10:40:17.172178  \n",
       "9           3.76         1.11  versicolor 2025-10-02 10:40:17.172178  \n",
       "21          1.41         0.30      setosa 2025-10-02 10:40:17.172178  "
      ]
     },
     "execution_count": 52,
     "metadata": {},
     "output_type": "execute_result"
    }
   ],
   "source": [
    "test"
   ]
  },
  {
   "cell_type": "code",
   "execution_count": 53,
   "metadata": {
    "id": "TvRo9820-UbS",
    "tags": []
   },
   "outputs": [],
   "source": [
    "from joblib import load\n",
    "\n",
    "# Read features from Feast\n",
    "fetch_model = load(\"iris_model.bin\")\n",
    "\n",
    "test_features = fs.get_online_features(\n",
    "    entity_rows = [{\"iris_id\": iris_id} for iris_id in test['iris_id']],\n",
    "    features = features_ref,\n",
    ").to_df()\n"
   ]
  },
  {
   "cell_type": "code",
   "execution_count": 54,
   "metadata": {
    "colab": {
     "base_uri": "https://localhost:8080/",
     "height": 360
    },
    "id": "qzwiGqfSyYP_",
    "outputId": "9adc38af-048c-41bb-a28c-2e685b2e793c",
    "tags": []
   },
   "outputs": [
    {
     "data": {
      "text/html": [
       "<div>\n",
       "<style scoped>\n",
       "    .dataframe tbody tr th:only-of-type {\n",
       "        vertical-align: middle;\n",
       "    }\n",
       "\n",
       "    .dataframe tbody tr th {\n",
       "        vertical-align: top;\n",
       "    }\n",
       "\n",
       "    .dataframe thead th {\n",
       "        text-align: right;\n",
       "    }\n",
       "</style>\n",
       "<table border=\"1\" class=\"dataframe\">\n",
       "  <thead>\n",
       "    <tr style=\"text-align: right;\">\n",
       "      <th></th>\n",
       "      <th>sepal_length</th>\n",
       "      <th>sepal_width</th>\n",
       "      <th>petal_length</th>\n",
       "      <th>petal_width</th>\n",
       "    </tr>\n",
       "  </thead>\n",
       "  <tbody>\n",
       "    <tr>\n",
       "      <th>0</th>\n",
       "      <td>5.21</td>\n",
       "      <td>3.43</td>\n",
       "      <td>1.58</td>\n",
       "      <td>0.36</td>\n",
       "    </tr>\n",
       "    <tr>\n",
       "      <th>1</th>\n",
       "      <td>5.50</td>\n",
       "      <td>2.36</td>\n",
       "      <td>3.77</td>\n",
       "      <td>1.31</td>\n",
       "    </tr>\n",
       "    <tr>\n",
       "      <th>2</th>\n",
       "      <td>4.85</td>\n",
       "      <td>2.94</td>\n",
       "      <td>1.51</td>\n",
       "      <td>0.32</td>\n",
       "    </tr>\n",
       "    <tr>\n",
       "      <th>3</th>\n",
       "      <td>4.85</td>\n",
       "      <td>2.94</td>\n",
       "      <td>1.51</td>\n",
       "      <td>0.32</td>\n",
       "    </tr>\n",
       "    <tr>\n",
       "      <th>4</th>\n",
       "      <td>4.85</td>\n",
       "      <td>2.94</td>\n",
       "      <td>1.51</td>\n",
       "      <td>0.32</td>\n",
       "    </tr>\n",
       "    <tr>\n",
       "      <th>5</th>\n",
       "      <td>5.50</td>\n",
       "      <td>2.36</td>\n",
       "      <td>3.77</td>\n",
       "      <td>1.31</td>\n",
       "    </tr>\n",
       "    <tr>\n",
       "      <th>6</th>\n",
       "      <td>4.85</td>\n",
       "      <td>2.94</td>\n",
       "      <td>1.51</td>\n",
       "      <td>0.32</td>\n",
       "    </tr>\n",
       "  </tbody>\n",
       "</table>\n",
       "</div>"
      ],
      "text/plain": [
       "   sepal_length  sepal_width  petal_length  petal_width\n",
       "0          5.21         3.43          1.58         0.36\n",
       "1          5.50         2.36          3.77         1.31\n",
       "2          4.85         2.94          1.51         0.32\n",
       "3          4.85         2.94          1.51         0.32\n",
       "4          4.85         2.94          1.51         0.32\n",
       "5          5.50         2.36          3.77         1.31\n",
       "6          4.85         2.94          1.51         0.32"
      ]
     },
     "execution_count": 54,
     "metadata": {},
     "output_type": "execute_result"
    }
   ],
   "source": [
    "test_features[['sepal_length','sepal_width','petal_length','petal_width']]"
   ]
  },
  {
   "cell_type": "code",
   "execution_count": 55,
   "metadata": {
    "colab": {
     "base_uri": "https://localhost:8080/"
    },
    "id": "mtKxg-ecvaKL",
    "outputId": "afcba3c5-7d38-476d-c736-d49d6c73248f",
    "tags": []
   },
   "outputs": [
    {
     "name": "stdout",
     "output_type": "stream",
     "text": [
      "Predictions using online store:\n",
      "   sepal_length  sepal_width  petal_length  petal_width predictions\n",
      "0          5.21         3.43          1.58         0.36  versicolor\n",
      "1          5.50         2.36          3.77         1.31  versicolor\n",
      "2          4.85         2.94          1.51         0.32      setosa\n",
      "3          4.85         2.94          1.51         0.32      setosa\n",
      "4          4.85         2.94          1.51         0.32      setosa\n",
      "5          5.50         2.36          3.77         1.31  versicolor\n",
      "6          4.85         2.94          1.51         0.32      setosa\n"
     ]
    }
   ],
   "source": [
    "test_feat = test_features[['sepal_length','sepal_width','petal_length','petal_width']]\n",
    "\n",
    "# Make prediction\n",
    "predictions = fetch_model.predict(test_feat)\n",
    "test_feat['predictions'] = predictions\n",
    "print(\"Predictions using online store:\")\n",
    "print(test_feat)"
   ]
  },
  {
   "cell_type": "code",
   "execution_count": null,
   "metadata": {},
   "outputs": [],
   "source": []
  }
 ],
 "metadata": {
  "colab": {
   "collapsed_sections": [
    "TP3jb5GA9zID",
    "jsXZOI8x-Axf",
    "tPLKPB01z_JJ",
    "ftK_5pFx-SML",
    "jmfRbsB8-Uzn"
   ],
   "provenance": []
  },
  "environment": {
   "kernel": "conda-base-py",
   "name": "workbench-notebooks.m133",
   "type": "gcloud",
   "uri": "us-docker.pkg.dev/deeplearning-platform-release/gcr.io/workbench-notebooks:m133"
  },
  "kernelspec": {
   "display_name": "Python 3 (ipykernel) (Local)",
   "language": "python",
   "name": "conda-base-py"
  },
  "language_info": {
   "codemirror_mode": {
    "name": "ipython",
    "version": 3
   },
   "file_extension": ".py",
   "mimetype": "text/x-python",
   "name": "python",
   "nbconvert_exporter": "python",
   "pygments_lexer": "ipython3",
   "version": "3.10.18"
  }
 },
 "nbformat": 4,
 "nbformat_minor": 4
}
